{
 "cells": [
  {
   "cell_type": "markdown",
   "id": "889aa386",
   "metadata": {},
   "source": [
    "## Data Loading and Initial Inspection"
   ]
  },
  {
   "cell_type": "code",
   "execution_count": 5,
   "id": "26f51db9",
   "metadata": {},
   "outputs": [
    {
     "name": "stdout",
     "output_type": "stream",
     "text": [
      "Error: 'data' folder NOT found at the expected relative path from CWD.\n",
      "\n",
      "Confirming Current Working Directory: c:\\projects\\olympic_swimming_analysis\\Notebooks\n"
     ]
    }
   ],
   "source": [
    "import os\n",
    "\n",
    "expected_data_folder_relative_path = 'data'\n",
    "\n",
    "if os.path.exists(expected_data_folder_relative_path):\n",
    "    print(f\"'{expected_data_folder_relative_path}' folder found.\")\n",
    "    print(f\"Contents of '{expected_data_folder_relative_path}' folder:\")\n",
    "    for item in os.listdir(expected_data_folder_relative_path):\n",
    "        print(item) # Print each item found in the folder\n",
    "else:\n",
    "    print(f\"Error: '{expected_data_folder_relative_path}' folder NOT found at the expected relative path from CWD.\")\n",
    "\n",
    "# Print CWD again for confirmation\n",
    "print(\"\\nConfirming Current Working Directory:\", os.getcwd())"
   ]
  },
  {
   "cell_type": "code",
   "execution_count": 7,
   "id": "c63b28e8",
   "metadata": {},
   "outputs": [
    {
     "name": "stdout",
     "output_type": "stream",
     "text": [
      "Data loaded successfully!\n",
      "\n",
      "First 5 rows:\n",
      "  Location  Year Distance (in meters)      Stroke  Relay? Gender Team  \\\n",
      "0    Tokyo  2020                 100m  Backstroke       0    Men  ROC   \n",
      "1    Tokyo  2020                 100m  Backstroke       0    Men  ROC   \n",
      "2    Tokyo  2020                 100m  Backstroke       0    Men  USA   \n",
      "3    Tokyo  2020                 100m  Backstroke       0    Men  ITA   \n",
      "4    Tokyo  2020                 100m  Backstroke       0    Men  CHN   \n",
      "\n",
      "              Athlete Results  Rank  \n",
      "0        Evgeny Rylov   51.98     1  \n",
      "1  Kliment Kolesnikov      52     2  \n",
      "2         Ryan Murphy   52.19     3  \n",
      "3       Thomas Ceccon    52.3     4  \n",
      "4            Jiayu Xu   52.51     4  \n",
      "\n",
      "Dataset Info:\n",
      "<class 'pandas.core.frame.DataFrame'>\n",
      "RangeIndex: 4359 entries, 0 to 4358\n",
      "Data columns (total 10 columns):\n",
      " #   Column                Non-Null Count  Dtype \n",
      "---  ------                --------------  ----- \n",
      " 0   Location              4359 non-null   object\n",
      " 1   Year                  4359 non-null   int64 \n",
      " 2   Distance (in meters)  4359 non-null   object\n",
      " 3   Stroke                4359 non-null   object\n",
      " 4   Relay?                4359 non-null   int64 \n",
      " 5   Gender                4359 non-null   object\n",
      " 6   Team                  4359 non-null   object\n",
      " 7   Athlete               4345 non-null   object\n",
      " 8   Results               4331 non-null   object\n",
      " 9   Rank                  4359 non-null   int64 \n",
      "dtypes: int64(3), object(7)\n",
      "memory usage: 340.7+ KB\n",
      "\n",
      "Descriptive Statistics:\n",
      "              Year       Relay?         Rank\n",
      "count  4359.000000  4359.000000  4359.000000\n",
      "mean   1982.936453     0.169764     3.164946\n",
      "std      26.928344     0.375468     1.189715\n",
      "min    1912.000000     0.000000     0.000000\n",
      "25%    1968.000000     0.000000     2.000000\n",
      "50%    1988.000000     0.000000     4.000000\n",
      "75%    2004.000000     0.000000     4.000000\n",
      "max    2020.000000     1.000000     5.000000\n"
     ]
    }
   ],
   "source": [
    "import pandas as pd\n",
    "import numpy as np\n",
    "import os\n",
    "import matplotlib.pyplot as plt\n",
    "import seaborn as sns\n",
    "\n",
    "file_path = os.path.join('..','data', 'Olympic_Swimming.csv')\n",
    "\n",
    "# Check if the file exists\n",
    "if not os.path.exists(file_path):\n",
    "    print(f\"Error: Data file not found at {file_path}\")\n",
    "else:\n",
    "    df = pd.read_csv(file_path)\n",
    "    print(\"Data loaded successfully!\")\n",
    "\n",
    "# Display basic information\n",
    "print(\"\\nFirst 5 rows:\")\n",
    "print(df.head())\n",
    "\n",
    "print(\"\\nDataset Info:\")\n",
    "df.info()\n",
    "\n",
    "print(\"\\nDescriptive Statistics:\")\n",
    "print(df.describe())"
   ]
  }
 ],
 "metadata": {
  "kernelspec": {
   "display_name": "base",
   "language": "python",
   "name": "python3"
  },
  "language_info": {
   "codemirror_mode": {
    "name": "ipython",
    "version": 3
   },
   "file_extension": ".py",
   "mimetype": "text/x-python",
   "name": "python",
   "nbconvert_exporter": "python",
   "pygments_lexer": "ipython3",
   "version": "3.12.7"
  }
 },
 "nbformat": 4,
 "nbformat_minor": 5
}
